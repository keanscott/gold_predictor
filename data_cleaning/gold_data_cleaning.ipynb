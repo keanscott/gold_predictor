{
 "cells": [
  {
   "cell_type": "markdown",
   "metadata": {},
   "source": [
    "# Gold Prediction Project - Data Cleaning\n",
    "\n",
    "## Introduction\n",
    "This notebook will show the data cleaning process for my Gold Predictor project. So far I have collated data for a variety of macroeconomic factors, as well as the gold price itself. Before exploring the data, there are already a few goals I have going into the data cleaning process:\n",
    "\n",
    "- The datasets are not in the same format or shape, and will require some adjusting before I can merge them together.\n",
    "- The GDP data is quarterly. I will need to fill the missing values.\n",
    "- The final dataset should be in the following format:\n",
    "    - | date | gold_price | gold_price_nextm | sp500 | interest_rate | gdp | cpi | dxy |\n",
    "      | :-: | :-: | :-: | :-: | :-: | :-: | :-: | :-: |\n",
    "\n",
    "Descriptions for each attibute:\n",
    "- ***date***: Represented as DD/MM/YYYY. Data assumed to be collected on the first day of each month.\n",
    "- ***gold_price***: (USD) Price of gold on first day of month.\n",
    "- ***gold_price_nextm***: (USD) Price of gold of following month. This will be constucted as I am assuming that the macroeconomic factors will show triggers of the gold price action of the following month.\n",
    "- ***sp500***: Value of the S&P500 index.\n",
    "- ***interest_rate***: US Federal interest rate.\n",
    "- ***gdp***: Gross Domestic Product (**GDP**) of US.\n",
    "- ***cpi***: Consumer Price Index (**CPI**) of US.\n",
    "- ***dxy***: Index representing the comparative strength of **USD** to other currencies."
   ]
  },
  {
   "cell_type": "code",
   "execution_count": 1,
   "metadata": {},
   "outputs": [],
   "source": [
    "import pandas as pd\n",
    "import numpy as np"
   ]
  },
  {
   "cell_type": "markdown",
   "metadata": {},
   "source": [
    "## Gold Data Cleaning\n",
    "First I will start by cleaning the gold pricing data."
   ]
  },
  {
   "cell_type": "code",
   "execution_count": 2,
   "metadata": {},
   "outputs": [
    {
     "data": {
      "text/html": [
       "<div>\n",
       "<style scoped>\n",
       "    .dataframe tbody tr th:only-of-type {\n",
       "        vertical-align: middle;\n",
       "    }\n",
       "\n",
       "    .dataframe tbody tr th {\n",
       "        vertical-align: top;\n",
       "    }\n",
       "\n",
       "    .dataframe thead th {\n",
       "        text-align: right;\n",
       "    }\n",
       "</style>\n",
       "<table border=\"1\" class=\"dataframe\">\n",
       "  <thead>\n",
       "    <tr style=\"text-align: right;\">\n",
       "      <th></th>\n",
       "      <th>Date</th>\n",
       "      <th>Price</th>\n",
       "      <th>Open</th>\n",
       "      <th>High</th>\n",
       "      <th>Low</th>\n",
       "      <th>Vol.</th>\n",
       "      <th>Change %</th>\n",
       "    </tr>\n",
       "  </thead>\n",
       "  <tbody>\n",
       "    <tr>\n",
       "      <th>0</th>\n",
       "      <td>2/01/2025</td>\n",
       "      <td>2,898.80</td>\n",
       "      <td>2,838.55</td>\n",
       "      <td>2,910.59</td>\n",
       "      <td>2,802.24</td>\n",
       "      <td>865.43K</td>\n",
       "      <td>2.25%</td>\n",
       "    </tr>\n",
       "    <tr>\n",
       "      <th>1</th>\n",
       "      <td>1/01/2025</td>\n",
       "      <td>2,835.00</td>\n",
       "      <td>2,652.00</td>\n",
       "      <td>2,862.90</td>\n",
       "      <td>2,638.90</td>\n",
       "      <td>386.65K</td>\n",
       "      <td>6.85%</td>\n",
       "    </tr>\n",
       "    <tr>\n",
       "      <th>2</th>\n",
       "      <td>12/01/2024</td>\n",
       "      <td>2,653.30</td>\n",
       "      <td>2,673.80</td>\n",
       "      <td>2,761.30</td>\n",
       "      <td>2,596.70</td>\n",
       "      <td>2.92M</td>\n",
       "      <td>-1.03%</td>\n",
       "    </tr>\n",
       "    <tr>\n",
       "      <th>3</th>\n",
       "      <td>11/01/2024</td>\n",
       "      <td>2,681.00</td>\n",
       "      <td>2,766.90</td>\n",
       "      <td>2,782.80</td>\n",
       "      <td>2,560.80</td>\n",
       "      <td>360.31K</td>\n",
       "      <td>-2.92%</td>\n",
       "    </tr>\n",
       "    <tr>\n",
       "      <th>4</th>\n",
       "      <td>10/01/2024</td>\n",
       "      <td>2,761.60</td>\n",
       "      <td>2,656.10</td>\n",
       "      <td>2,813.10</td>\n",
       "      <td>2,618.80</td>\n",
       "      <td>3.63M</td>\n",
       "      <td>4.29%</td>\n",
       "    </tr>\n",
       "  </tbody>\n",
       "</table>\n",
       "</div>"
      ],
      "text/plain": [
       "         Date     Price      Open      High       Low     Vol. Change %\n",
       "0   2/01/2025  2,898.80  2,838.55  2,910.59  2,802.24  865.43K    2.25%\n",
       "1   1/01/2025  2,835.00  2,652.00  2,862.90  2,638.90  386.65K    6.85%\n",
       "2  12/01/2024  2,653.30  2,673.80  2,761.30  2,596.70    2.92M   -1.03%\n",
       "3  11/01/2024  2,681.00  2,766.90  2,782.80  2,560.80  360.31K   -2.92%\n",
       "4  10/01/2024  2,761.60  2,656.10  2,813.10  2,618.80    3.63M    4.29%"
      ]
     },
     "execution_count": 2,
     "metadata": {},
     "output_type": "execute_result"
    }
   ],
   "source": [
    "# Read in data to pandas DataFrame\n",
    "gold_df = pd.read_csv(\"../data/gold_data.csv\")\n",
    "gold_df.head()"
   ]
  },
  {
   "cell_type": "markdown",
   "metadata": {},
   "source": [
    "The only columns I am interested in, are the *date* and *price* columns. Lets drop the others from the dataset."
   ]
  },
  {
   "cell_type": "code",
   "execution_count": 3,
   "metadata": {},
   "outputs": [
    {
     "data": {
      "text/html": [
       "<div>\n",
       "<style scoped>\n",
       "    .dataframe tbody tr th:only-of-type {\n",
       "        vertical-align: middle;\n",
       "    }\n",
       "\n",
       "    .dataframe tbody tr th {\n",
       "        vertical-align: top;\n",
       "    }\n",
       "\n",
       "    .dataframe thead th {\n",
       "        text-align: right;\n",
       "    }\n",
       "</style>\n",
       "<table border=\"1\" class=\"dataframe\">\n",
       "  <thead>\n",
       "    <tr style=\"text-align: right;\">\n",
       "      <th></th>\n",
       "      <th>Date</th>\n",
       "      <th>Price</th>\n",
       "    </tr>\n",
       "  </thead>\n",
       "  <tbody>\n",
       "    <tr>\n",
       "      <th>0</th>\n",
       "      <td>2/01/2025</td>\n",
       "      <td>2,898.80</td>\n",
       "    </tr>\n",
       "    <tr>\n",
       "      <th>1</th>\n",
       "      <td>1/01/2025</td>\n",
       "      <td>2,835.00</td>\n",
       "    </tr>\n",
       "    <tr>\n",
       "      <th>2</th>\n",
       "      <td>12/01/2024</td>\n",
       "      <td>2,653.30</td>\n",
       "    </tr>\n",
       "    <tr>\n",
       "      <th>3</th>\n",
       "      <td>11/01/2024</td>\n",
       "      <td>2,681.00</td>\n",
       "    </tr>\n",
       "    <tr>\n",
       "      <th>4</th>\n",
       "      <td>10/01/2024</td>\n",
       "      <td>2,761.60</td>\n",
       "    </tr>\n",
       "  </tbody>\n",
       "</table>\n",
       "</div>"
      ],
      "text/plain": [
       "         Date     Price\n",
       "0   2/01/2025  2,898.80\n",
       "1   1/01/2025  2,835.00\n",
       "2  12/01/2024  2,653.30\n",
       "3  11/01/2024  2,681.00\n",
       "4  10/01/2024  2,761.60"
      ]
     },
     "execution_count": 3,
     "metadata": {},
     "output_type": "execute_result"
    }
   ],
   "source": [
    "cols_to_drop = [\"Open\", \"High\", \"Low\", \"Vol.\", \"Change %\"]\n",
    "gold_df.drop(columns=cols_to_drop, inplace=True)\n",
    "\n",
    "gold_df.head()"
   ]
  },
  {
   "cell_type": "code",
   "execution_count": 4,
   "metadata": {},
   "outputs": [
    {
     "name": "stdout",
     "output_type": "stream",
     "text": [
      "<class 'pandas.core.frame.DataFrame'>\n",
      "RangeIndex: 420 entries, 0 to 419\n",
      "Data columns (total 2 columns):\n",
      " #   Column  Non-Null Count  Dtype \n",
      "---  ------  --------------  ----- \n",
      " 0   Date    420 non-null    object\n",
      " 1   Price   420 non-null    object\n",
      "dtypes: object(2)\n",
      "memory usage: 6.7+ KB\n"
     ]
    }
   ],
   "source": [
    "gold_df.info()"
   ]
  },
  {
   "cell_type": "markdown",
   "metadata": {},
   "source": [
    "There are no missing values on first inspection.\n",
    "\n",
    "Let's change the *Date* column into a datetime object, so it is easier to handle when we analyse. I'll also change the datatype of *Price* to **float**, which will require removing the commas. "
   ]
  },
  {
   "cell_type": "code",
   "execution_count": 5,
   "metadata": {},
   "outputs": [
    {
     "data": {
      "text/html": [
       "<div>\n",
       "<style scoped>\n",
       "    .dataframe tbody tr th:only-of-type {\n",
       "        vertical-align: middle;\n",
       "    }\n",
       "\n",
       "    .dataframe tbody tr th {\n",
       "        vertical-align: top;\n",
       "    }\n",
       "\n",
       "    .dataframe thead th {\n",
       "        text-align: right;\n",
       "    }\n",
       "</style>\n",
       "<table border=\"1\" class=\"dataframe\">\n",
       "  <thead>\n",
       "    <tr style=\"text-align: right;\">\n",
       "      <th></th>\n",
       "      <th>Date</th>\n",
       "      <th>Price</th>\n",
       "    </tr>\n",
       "  </thead>\n",
       "  <tbody>\n",
       "    <tr>\n",
       "      <th>0</th>\n",
       "      <td>2025-02-01</td>\n",
       "      <td>2898.8</td>\n",
       "    </tr>\n",
       "    <tr>\n",
       "      <th>1</th>\n",
       "      <td>2025-01-01</td>\n",
       "      <td>2835.0</td>\n",
       "    </tr>\n",
       "    <tr>\n",
       "      <th>2</th>\n",
       "      <td>2024-12-01</td>\n",
       "      <td>2653.3</td>\n",
       "    </tr>\n",
       "    <tr>\n",
       "      <th>3</th>\n",
       "      <td>2024-11-01</td>\n",
       "      <td>2681.0</td>\n",
       "    </tr>\n",
       "    <tr>\n",
       "      <th>4</th>\n",
       "      <td>2024-10-01</td>\n",
       "      <td>2761.6</td>\n",
       "    </tr>\n",
       "  </tbody>\n",
       "</table>\n",
       "</div>"
      ],
      "text/plain": [
       "        Date   Price\n",
       "0 2025-02-01  2898.8\n",
       "1 2025-01-01  2835.0\n",
       "2 2024-12-01  2653.3\n",
       "3 2024-11-01  2681.0\n",
       "4 2024-10-01  2761.6"
      ]
     },
     "execution_count": 5,
     "metadata": {},
     "output_type": "execute_result"
    }
   ],
   "source": [
    "gold_df[\"Date\"] = pd.to_datetime(gold_df[\"Date\"], format=\"%m/%d/%Y\")\n",
    "gold_df[\"Price\"] = gold_df[\"Price\"].str.replace(\",\", \"\").astype(\"float\")\n",
    "\n",
    "gold_df.head()"
   ]
  },
  {
   "cell_type": "markdown",
   "metadata": {},
   "source": [
    "I will change the column names to lowercase as a personal preference, and sort the *date* column in ascending order. I'll also swap *price* to *gold_price*."
   ]
  },
  {
   "cell_type": "code",
   "execution_count": 6,
   "metadata": {},
   "outputs": [],
   "source": [
    "gold_df[\"date\"] = gold_df[\"Date\"]\n",
    "gold_df[\"gold_price\"] = gold_df[\"Price\"]\n",
    "\n",
    "gold_df.drop(columns=[\"Date\", \"Price\"], inplace=True)"
   ]
  },
  {
   "cell_type": "code",
   "execution_count": 7,
   "metadata": {},
   "outputs": [
    {
     "data": {
      "text/html": [
       "<div>\n",
       "<style scoped>\n",
       "    .dataframe tbody tr th:only-of-type {\n",
       "        vertical-align: middle;\n",
       "    }\n",
       "\n",
       "    .dataframe tbody tr th {\n",
       "        vertical-align: top;\n",
       "    }\n",
       "\n",
       "    .dataframe thead th {\n",
       "        text-align: right;\n",
       "    }\n",
       "</style>\n",
       "<table border=\"1\" class=\"dataframe\">\n",
       "  <thead>\n",
       "    <tr style=\"text-align: right;\">\n",
       "      <th></th>\n",
       "      <th>date</th>\n",
       "      <th>gold_price</th>\n",
       "    </tr>\n",
       "  </thead>\n",
       "  <tbody>\n",
       "    <tr>\n",
       "      <th>0</th>\n",
       "      <td>1990-03-01</td>\n",
       "      <td>375.0</td>\n",
       "    </tr>\n",
       "    <tr>\n",
       "      <th>1</th>\n",
       "      <td>1990-04-01</td>\n",
       "      <td>371.4</td>\n",
       "    </tr>\n",
       "    <tr>\n",
       "      <th>2</th>\n",
       "      <td>1990-05-01</td>\n",
       "      <td>368.6</td>\n",
       "    </tr>\n",
       "    <tr>\n",
       "      <th>3</th>\n",
       "      <td>1990-06-01</td>\n",
       "      <td>359.9</td>\n",
       "    </tr>\n",
       "    <tr>\n",
       "      <th>4</th>\n",
       "      <td>1990-07-01</td>\n",
       "      <td>379.2</td>\n",
       "    </tr>\n",
       "    <tr>\n",
       "      <th>...</th>\n",
       "      <td>...</td>\n",
       "      <td>...</td>\n",
       "    </tr>\n",
       "    <tr>\n",
       "      <th>415</th>\n",
       "      <td>2024-10-01</td>\n",
       "      <td>2761.6</td>\n",
       "    </tr>\n",
       "    <tr>\n",
       "      <th>416</th>\n",
       "      <td>2024-11-01</td>\n",
       "      <td>2681.0</td>\n",
       "    </tr>\n",
       "    <tr>\n",
       "      <th>417</th>\n",
       "      <td>2024-12-01</td>\n",
       "      <td>2653.3</td>\n",
       "    </tr>\n",
       "    <tr>\n",
       "      <th>418</th>\n",
       "      <td>2025-01-01</td>\n",
       "      <td>2835.0</td>\n",
       "    </tr>\n",
       "    <tr>\n",
       "      <th>419</th>\n",
       "      <td>2025-02-01</td>\n",
       "      <td>2898.8</td>\n",
       "    </tr>\n",
       "  </tbody>\n",
       "</table>\n",
       "<p>420 rows × 2 columns</p>\n",
       "</div>"
      ],
      "text/plain": [
       "          date  gold_price\n",
       "0   1990-03-01       375.0\n",
       "1   1990-04-01       371.4\n",
       "2   1990-05-01       368.6\n",
       "3   1990-06-01       359.9\n",
       "4   1990-07-01       379.2\n",
       "..         ...         ...\n",
       "415 2024-10-01      2761.6\n",
       "416 2024-11-01      2681.0\n",
       "417 2024-12-01      2653.3\n",
       "418 2025-01-01      2835.0\n",
       "419 2025-02-01      2898.8\n",
       "\n",
       "[420 rows x 2 columns]"
      ]
     },
     "execution_count": 7,
     "metadata": {},
     "output_type": "execute_result"
    }
   ],
   "source": [
    "gold_df.sort_values(by=\"date\", ascending=True, ignore_index=True)"
   ]
  },
  {
   "cell_type": "markdown",
   "metadata": {},
   "source": [
    "I'm happy with the state of the gold dataframe. Let's move on to the CPI data."
   ]
  },
  {
   "cell_type": "markdown",
   "metadata": {},
   "source": [
    "## CPI Data Cleaning"
   ]
  },
  {
   "cell_type": "markdown",
   "metadata": {},
   "source": [
    "Now I will clean the CPI data and ensure it is in the same format as the gold dataframe.\n",
    "\n",
    "Let's read the data in, and have a look at it's shape."
   ]
  },
  {
   "cell_type": "code",
   "execution_count": 8,
   "metadata": {},
   "outputs": [
    {
     "data": {
      "text/html": [
       "<div>\n",
       "<style scoped>\n",
       "    .dataframe tbody tr th:only-of-type {\n",
       "        vertical-align: middle;\n",
       "    }\n",
       "\n",
       "    .dataframe tbody tr th {\n",
       "        vertical-align: top;\n",
       "    }\n",
       "\n",
       "    .dataframe thead th {\n",
       "        text-align: right;\n",
       "    }\n",
       "</style>\n",
       "<table border=\"1\" class=\"dataframe\">\n",
       "  <thead>\n",
       "    <tr style=\"text-align: right;\">\n",
       "      <th></th>\n",
       "      <th>Year</th>\n",
       "      <th>Jan</th>\n",
       "      <th>Feb</th>\n",
       "      <th>Mar</th>\n",
       "      <th>Apr</th>\n",
       "      <th>May</th>\n",
       "      <th>June</th>\n",
       "      <th>July</th>\n",
       "      <th>Aug</th>\n",
       "      <th>Sep</th>\n",
       "      <th>Oct</th>\n",
       "      <th>Nov</th>\n",
       "      <th>Dec</th>\n",
       "      <th>Avg</th>\n",
       "      <th>Dec-Dec</th>\n",
       "      <th>Avg-Avg</th>\n",
       "    </tr>\n",
       "  </thead>\n",
       "  <tbody>\n",
       "    <tr>\n",
       "      <th>0</th>\n",
       "      <td>1913</td>\n",
       "      <td>9.8</td>\n",
       "      <td>9.8</td>\n",
       "      <td>9.8</td>\n",
       "      <td>9.8</td>\n",
       "      <td>9.7</td>\n",
       "      <td>9.8</td>\n",
       "      <td>9.9</td>\n",
       "      <td>9.9</td>\n",
       "      <td>10.0</td>\n",
       "      <td>10.0</td>\n",
       "      <td>10.1</td>\n",
       "      <td>10.0</td>\n",
       "      <td>9.9</td>\n",
       "      <td>–</td>\n",
       "      <td>–</td>\n",
       "    </tr>\n",
       "    <tr>\n",
       "      <th>1</th>\n",
       "      <td>1914</td>\n",
       "      <td>10.0</td>\n",
       "      <td>9.9</td>\n",
       "      <td>9.9</td>\n",
       "      <td>9.8</td>\n",
       "      <td>9.9</td>\n",
       "      <td>9.9</td>\n",
       "      <td>10.0</td>\n",
       "      <td>10.2</td>\n",
       "      <td>10.2</td>\n",
       "      <td>10.1</td>\n",
       "      <td>10.2</td>\n",
       "      <td>10.1</td>\n",
       "      <td>10.0</td>\n",
       "      <td>1.0</td>\n",
       "      <td>1.0</td>\n",
       "    </tr>\n",
       "    <tr>\n",
       "      <th>2</th>\n",
       "      <td>1915</td>\n",
       "      <td>10.1</td>\n",
       "      <td>10.0</td>\n",
       "      <td>9.9</td>\n",
       "      <td>10.0</td>\n",
       "      <td>10.1</td>\n",
       "      <td>10.1</td>\n",
       "      <td>10.1</td>\n",
       "      <td>10.1</td>\n",
       "      <td>10.1</td>\n",
       "      <td>10.2</td>\n",
       "      <td>10.3</td>\n",
       "      <td>10.3</td>\n",
       "      <td>10.1</td>\n",
       "      <td>2.0</td>\n",
       "      <td>1.0</td>\n",
       "    </tr>\n",
       "    <tr>\n",
       "      <th>3</th>\n",
       "      <td>1916</td>\n",
       "      <td>10.4</td>\n",
       "      <td>10.4</td>\n",
       "      <td>10.5</td>\n",
       "      <td>10.6</td>\n",
       "      <td>10.7</td>\n",
       "      <td>10.8</td>\n",
       "      <td>10.8</td>\n",
       "      <td>10.9</td>\n",
       "      <td>11.1</td>\n",
       "      <td>11.3</td>\n",
       "      <td>11.5</td>\n",
       "      <td>11.6</td>\n",
       "      <td>10.9</td>\n",
       "      <td>12.6</td>\n",
       "      <td>7.9</td>\n",
       "    </tr>\n",
       "    <tr>\n",
       "      <th>4</th>\n",
       "      <td>1917</td>\n",
       "      <td>11.7</td>\n",
       "      <td>12.0</td>\n",
       "      <td>12.0</td>\n",
       "      <td>12.6</td>\n",
       "      <td>12.8</td>\n",
       "      <td>13.0</td>\n",
       "      <td>12.8</td>\n",
       "      <td>13.0</td>\n",
       "      <td>13.3</td>\n",
       "      <td>13.5</td>\n",
       "      <td>13.5</td>\n",
       "      <td>13.7</td>\n",
       "      <td>12.8</td>\n",
       "      <td>18.1</td>\n",
       "      <td>17.4</td>\n",
       "    </tr>\n",
       "  </tbody>\n",
       "</table>\n",
       "</div>"
      ],
      "text/plain": [
       "   Year   Jan   Feb   Mar   Apr   May  June  July   Aug   Sep   Oct   Nov  \\\n",
       "0  1913   9.8   9.8   9.8   9.8   9.7   9.8   9.9   9.9  10.0  10.0  10.1   \n",
       "1  1914  10.0   9.9   9.9   9.8   9.9   9.9  10.0  10.2  10.2  10.1  10.2   \n",
       "2  1915  10.1  10.0   9.9  10.0  10.1  10.1  10.1  10.1  10.1  10.2  10.3   \n",
       "3  1916  10.4  10.4  10.5  10.6  10.7  10.8  10.8  10.9  11.1  11.3  11.5   \n",
       "4  1917  11.7  12.0  12.0  12.6  12.8  13.0  12.8  13.0  13.3  13.5  13.5   \n",
       "\n",
       "    Dec   Avg Dec-Dec Avg-Avg  \n",
       "0  10.0   9.9       –       –  \n",
       "1  10.1  10.0     1.0     1.0  \n",
       "2  10.3  10.1     2.0     1.0  \n",
       "3  11.6  10.9    12.6     7.9  \n",
       "4  13.7  12.8    18.1    17.4  "
      ]
     },
     "execution_count": 8,
     "metadata": {},
     "output_type": "execute_result"
    }
   ],
   "source": [
    "cpi_df = pd.read_csv(\"../data/cpi_data.csv\")\n",
    "\n",
    "cpi_df.head()"
   ]
  },
  {
   "cell_type": "code",
   "execution_count": 9,
   "metadata": {},
   "outputs": [
    {
     "name": "stdout",
     "output_type": "stream",
     "text": [
      "<class 'pandas.core.frame.DataFrame'>\n",
      "RangeIndex: 113 entries, 0 to 112\n",
      "Data columns (total 16 columns):\n",
      " #   Column   Non-Null Count  Dtype  \n",
      "---  ------   --------------  -----  \n",
      " 0   Year     113 non-null    int64  \n",
      " 1   Jan      113 non-null    object \n",
      " 2   Feb      112 non-null    float64\n",
      " 3   Mar      112 non-null    float64\n",
      " 4   Apr      112 non-null    float64\n",
      " 5   May      112 non-null    float64\n",
      " 6   June     112 non-null    float64\n",
      " 7   July     112 non-null    float64\n",
      " 8   Aug      112 non-null    float64\n",
      " 9   Sep      112 non-null    float64\n",
      " 10  Oct      112 non-null    float64\n",
      " 11  Nov      112 non-null    float64\n",
      " 12  Dec      112 non-null    float64\n",
      " 13  Avg      112 non-null    float64\n",
      " 14  Dec-Dec  112 non-null    object \n",
      " 15  Avg-Avg  112 non-null    object \n",
      "dtypes: float64(12), int64(1), object(3)\n",
      "memory usage: 14.3+ KB\n"
     ]
    }
   ],
   "source": [
    "cpi_df.info()"
   ]
  },
  {
   "cell_type": "markdown",
   "metadata": {},
   "source": [
    "I'll first drop the \"average\" columns, and convert the data in the *Jan* column to **float**.\n",
    "\n",
    "After that, I'll need to transform the dataframe so the month attributes are represented in a column *month*, so that each row is a single observation."
   ]
  },
  {
   "cell_type": "code",
   "execution_count": 10,
   "metadata": {},
   "outputs": [],
   "source": [
    "# Drop columns\n",
    "cols_to_drop = [\"Avg\", \"Dec-Dec\", \"Avg-Avg\"]\n",
    "cpi_df.drop(columns=cols_to_drop, inplace=True)"
   ]
  },
  {
   "cell_type": "code",
   "execution_count": 11,
   "metadata": {},
   "outputs": [],
   "source": [
    "# \"Melt\" to reshape to ['year', 'month]\n",
    "cpi_df_melted = pd.melt(\n",
    "    cpi_df,\n",
    "    id_vars=[\"Year\"],\n",
    "    var_name=\"month\",\n",
    "    value_name=\"cpi\"\n",
    ")\n",
    "\n",
    "month_map = {\n",
    "    'Jan': '01', 'Feb': '02', 'Mar': '03',\n",
    "    'Apr': '04', 'May': '05', 'Jun': '06',\n",
    "    'Jul': '07', 'Aug': '08', 'Sep': '09',\n",
    "    'Oct': '10', 'Nov': '11', 'Dec': '12'\n",
    "}\n",
    "\n",
    "cpi_df_melted[\"month\"] = cpi_df_melted[\"month\"].map(month_map)\n",
    "\n",
    "cpi_df_melted[\"date\"] = pd.to_datetime(\n",
    "    cpi_df_melted[\"Year\"].astype(str)+\n",
    "    \"/\"+\n",
    "    cpi_df_melted[\"month\"]+\n",
    "    \"/\"+\n",
    "    \"01\",\n",
    "    format=\"%Y/%m/%d\"\n",
    ")\n",
    "\n",
    "cpi_df = cpi_df_melted[[\"date\", \"cpi\"]]"
   ]
  },
  {
   "cell_type": "code",
   "execution_count": 12,
   "metadata": {},
   "outputs": [
    {
     "name": "stdout",
     "output_type": "stream",
     "text": [
      "<class 'pandas.core.frame.DataFrame'>\n",
      "RangeIndex: 1356 entries, 0 to 1355\n",
      "Data columns (total 2 columns):\n",
      " #   Column  Non-Null Count  Dtype         \n",
      "---  ------  --------------  -----         \n",
      " 0   date    1130 non-null   datetime64[ns]\n",
      " 1   cpi     1345 non-null   object        \n",
      "dtypes: datetime64[ns](1), object(1)\n",
      "memory usage: 21.3+ KB\n"
     ]
    }
   ],
   "source": [
    "# Recheck shape of df\n",
    "cpi_df.info()"
   ]
  },
  {
   "cell_type": "code",
   "execution_count": 13,
   "metadata": {},
   "outputs": [],
   "source": [
    "# cpi_df[\"cpi\"] = cpi_df[\"cpi\"].str.replace(\",\", \"\").astype(\"float\")\n"
   ]
  },
  {
   "cell_type": "markdown",
   "metadata": {},
   "source": [
    "I tried to run the above commented code but ran into this error: `ValueError: could not convert string to float: 'Avail.Feb.12'`.\n",
    "\n",
    "One or some of the values in the *cpi* column must not be numerical. Let's find out which rows are affected."
   ]
  },
  {
   "cell_type": "code",
   "execution_count": 16,
   "metadata": {},
   "outputs": [
    {
     "name": "stderr",
     "output_type": "stream",
     "text": [
      "C:\\Users\\keans\\AppData\\Local\\Temp\\ipykernel_15000\\306384366.py:1: SettingWithCopyWarning: \n",
      "A value is trying to be set on a copy of a slice from a DataFrame.\n",
      "Try using .loc[row_indexer,col_indexer] = value instead\n",
      "\n",
      "See the caveats in the documentation: https://pandas.pydata.org/pandas-docs/stable/user_guide/indexing.html#returning-a-view-versus-a-copy\n",
      "  cpi_df[\"cleaned_cpi\"] = pd.to_numeric(cpi_df[\"cpi\"], errors=\"coerce\")\n"
     ]
    }
   ],
   "source": [
    "cpi_df[\"cleaned_cpi\"] = pd.to_numeric(cpi_df[\"cpi\"], errors=\"coerce\")\n",
    "\n",
    "non_numerical_idx = cpi_df[cpi_df[\"cleaned_cpi\"].isna()]"
   ]
  },
  {
   "cell_type": "code",
   "execution_count": 17,
   "metadata": {},
   "outputs": [
    {
     "name": "stdout",
     "output_type": "stream",
     "text": [
      "           date           cpi  cleaned_cpi\n",
      "112  2025-01-01  Avail.Feb.12          NaN\n",
      "225  2025-02-01           NaN          NaN\n",
      "338  2025-03-01           NaN          NaN\n",
      "451  2025-04-01           NaN          NaN\n",
      "564  2025-05-01           NaN          NaN\n",
      "677         NaT           NaN          NaN\n",
      "790         NaT           NaN          NaN\n",
      "903  2025-08-01           NaN          NaN\n",
      "1016 2025-09-01           NaN          NaN\n",
      "1129 2025-10-01           NaN          NaN\n",
      "1242 2025-11-01           NaN          NaN\n",
      "1355 2025-12-01           NaN          NaN\n"
     ]
    }
   ],
   "source": [
    "print(non_numerical_idx)"
   ]
  },
  {
   "cell_type": "code",
   "execution_count": null,
   "metadata": {},
   "outputs": [],
   "source": []
  }
 ],
 "metadata": {
  "kernelspec": {
   "display_name": "uni",
   "language": "python",
   "name": "python3"
  },
  "language_info": {
   "codemirror_mode": {
    "name": "ipython",
    "version": 3
   },
   "file_extension": ".py",
   "mimetype": "text/x-python",
   "name": "python",
   "nbconvert_exporter": "python",
   "pygments_lexer": "ipython3",
   "version": "3.12.4"
  }
 },
 "nbformat": 4,
 "nbformat_minor": 2
}
